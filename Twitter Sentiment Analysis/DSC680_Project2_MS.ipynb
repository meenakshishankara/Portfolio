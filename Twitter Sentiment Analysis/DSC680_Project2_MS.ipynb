{
 "cells": [
  {
   "cell_type": "markdown",
   "metadata": {},
   "source": [
    "# DSC 680 - Project 2 \n",
    "# Twitter Sentiment Analysis\n",
    "\n",
    "\n",
    "### Meenakshi Shankara\n",
    "### 7/14/2023"
   ]
  },
  {
   "cell_type": "code",
   "execution_count": 1,
   "metadata": {},
   "outputs": [],
   "source": [
    "#!pip install xgboost -->Successfully installed xgboost-1.5.2\n",
    "#!pip3 install Pillow==9.5.0\n",
    "#!pip install clean-text\n",
    "#!pip3 install googletrans"
   ]
  },
  {
   "cell_type": "markdown",
   "metadata": {},
   "source": [
    "### Introduction\n",
    "\n",
    "In this notebook, I am performing a Twitter sentiment analysis of a database of tweets related to specific brands/entities. \n",
    "Before building models, the data is cleaned/prepared and pre-processed. I have created visualizations to observe and understand the behavior of data elements.\n",
    "For building models and comparing them for most accurate prediciton, I will be working with the below modeling algorithms -\n",
    "\n",
    "Logistic Regression\n",
    "Random Forest Regression\n",
    "Decision Tree\n",
    "Mulitnomial NB "
   ]
  },
  {
   "cell_type": "markdown",
   "metadata": {
    "papermill": {
     "duration": 0.01151,
     "end_time": "2023-03-15T23:44:59.563675",
     "exception": false,
     "start_time": "2023-03-15T23:44:59.552165",
     "status": "completed"
    },
    "tags": []
   },
   "source": [
    "# 1. Initial data transformation\n",
    "\n",
    "As an initial approach, all the main libraries and functions were summarized in the following cell, focusing on data visualization, text analysis, text vectorization, and model building.\n",
    "\n",
    "Additionally, the stopwords from English were downloaded from the `nltk` library."
   ]
  },
  {
   "cell_type": "code",
   "execution_count": 2,
   "metadata": {
    "_cell_guid": "b1076dfc-b9ad-4769-8c92-a6c4dae69d19",
    "_uuid": "8f2839f25d086af736a60e9eeb907d3b93b6e0e5",
    "execution": {
     "iopub.execute_input": "2023-06-17T17:08:45.507016Z",
     "iopub.status.busy": "2023-06-17T17:08:45.506569Z",
     "iopub.status.idle": "2023-06-17T17:08:45.521985Z",
     "shell.execute_reply": "2023-06-17T17:08:45.520383Z",
     "shell.execute_reply.started": "2023-06-17T17:08:45.506984Z"
    },
    "papermill": {
     "duration": 2.089374,
     "end_time": "2023-03-15T23:45:01.666763",
     "exception": false,
     "start_time": "2023-03-15T23:44:59.577389",
     "status": "completed"
    },
    "tags": []
   },
   "outputs": [
    {
     "name": "stderr",
     "output_type": "stream",
     "text": [
      "[nltk_data] Downloading package stopwords to\n",
      "[nltk_data]     C:\\Users\\meena\\AppData\\Roaming\\nltk_data...\n",
      "[nltk_data]   Package stopwords is already up-to-date!\n"
     ]
    },
    {
     "data": {
      "text/plain": [
       "True"
      ]
     },
     "execution_count": 2,
     "metadata": {},
     "output_type": "execute_result"
    }
   ],
   "source": [
    "import numpy as np # linear algebra\n",
    "import pandas as pd # data processing\n",
    "pd.options.mode.chained_assignment = None\n",
    "import os #File location\n",
    "from wordcloud import WordCloud #Word visualization\n",
    "import matplotlib.pyplot as plt #Plotting properties\n",
    "import seaborn as sns #Plotting properties\n",
    "from sklearn.feature_extraction.text import CountVectorizer #Data transformation\n",
    "from sklearn.model_selection import train_test_split #Data testing\n",
    "from sklearn.linear_model import LogisticRegression #Prediction Model\n",
    "from sklearn.tree import DecisionTreeClassifier\n",
    "from sklearn.ensemble import RandomForestClassifier\n",
    "from sklearn.naive_bayes import MultinomialNB\n",
    "\n",
    "from sklearn.metrics import accuracy_score, confusion_matrix,roc_auc_score,classification_report\n",
    "\n",
    "import re #Regular expressions\n",
    "import nltk\n",
    "from nltk import word_tokenize\n",
    "nltk.download('stopwords')"
   ]
  },
  {
   "cell_type": "markdown",
   "metadata": {
    "papermill": {
     "duration": 0.012151,
     "end_time": "2023-03-15T23:45:01.691038",
     "exception": false,
     "start_time": "2023-03-15T23:45:01.678887",
     "status": "completed"
    },
    "tags": []
   },
   "source": [
    "Then, the validation and train datasets were saved on two variables by using the function of `read_csv` from pandas, where both didn't have a data header."
   ]
  },
  {
   "cell_type": "code",
   "execution_count": 3,
   "metadata": {
    "execution": {
     "iopub.execute_input": "2023-06-17T17:08:45.525610Z",
     "iopub.status.busy": "2023-06-17T17:08:45.525091Z",
     "iopub.status.idle": "2023-06-17T17:08:45.771386Z",
     "shell.execute_reply": "2023-06-17T17:08:45.769938Z",
     "shell.execute_reply.started": "2023-06-17T17:08:45.525548Z"
    },
    "papermill": {
     "duration": 0.361906,
     "end_time": "2023-03-15T23:45:02.065152",
     "exception": false,
     "start_time": "2023-03-15T23:45:01.703246",
     "status": "completed"
    },
    "tags": []
   },
   "outputs": [],
   "source": [
    "#Validation dataset\n",
    "val=pd.read_csv(\"C:/Users/meena/documents/DSC_680/project2/milestone2/data/twitter_validation.csv\", header=None)\n",
    "\n",
    "#Full dataset for Train-Test\n",
    "train=pd.read_csv(\"C:/Users/meena/documents/DSC_680/project2/milestone2/data/twitter_training.csv\", header=None)"
   ]
  },
  {
   "cell_type": "markdown",
   "metadata": {
    "papermill": {
     "duration": 0.012028,
     "end_time": "2023-03-15T23:45:02.089217",
     "exception": false,
     "start_time": "2023-03-15T23:45:02.077189",
     "status": "completed"
    },
    "tags": []
   },
   "source": [
    "Later, the columns were renamed to represent the given data of tweets. But, with the first 5 rows analysis, it was recognized that positive sentiment was assigned to a \"kill\" thread related to a videogame. Even with this in consideration, the modeling, in this case, will the same as a traditional NLP project."
   ]
  },
  {
   "cell_type": "code",
   "execution_count": 4,
   "metadata": {
    "execution": {
     "iopub.execute_input": "2023-06-17T17:08:45.773136Z",
     "iopub.status.busy": "2023-06-17T17:08:45.772746Z",
     "iopub.status.idle": "2023-06-17T17:08:45.786403Z",
     "shell.execute_reply": "2023-06-17T17:08:45.785200Z",
     "shell.execute_reply.started": "2023-06-17T17:08:45.773084Z"
    },
    "papermill": {
     "duration": 0.03301,
     "end_time": "2023-03-15T23:45:02.135503",
     "exception": false,
     "start_time": "2023-03-15T23:45:02.102493",
     "status": "completed"
    },
    "tags": []
   },
   "outputs": [
    {
     "data": {
      "text/html": [
       "<div>\n",
       "<style scoped>\n",
       "    .dataframe tbody tr th:only-of-type {\n",
       "        vertical-align: middle;\n",
       "    }\n",
       "\n",
       "    .dataframe tbody tr th {\n",
       "        vertical-align: top;\n",
       "    }\n",
       "\n",
       "    .dataframe thead th {\n",
       "        text-align: right;\n",
       "    }\n",
       "</style>\n",
       "<table border=\"1\" class=\"dataframe\">\n",
       "  <thead>\n",
       "    <tr style=\"text-align: right;\">\n",
       "      <th></th>\n",
       "      <th>Tweet_ID</th>\n",
       "      <th>Entity</th>\n",
       "      <th>Sentiment</th>\n",
       "      <th>Tweet_content</th>\n",
       "    </tr>\n",
       "  </thead>\n",
       "  <tbody>\n",
       "    <tr>\n",
       "      <th>0</th>\n",
       "      <td>2401</td>\n",
       "      <td>Borderlands</td>\n",
       "      <td>Positive</td>\n",
       "      <td>im getting on borderlands and i will murder yo...</td>\n",
       "    </tr>\n",
       "    <tr>\n",
       "      <th>1</th>\n",
       "      <td>2401</td>\n",
       "      <td>Borderlands</td>\n",
       "      <td>Positive</td>\n",
       "      <td>I am coming to the borders and I will kill you...</td>\n",
       "    </tr>\n",
       "    <tr>\n",
       "      <th>2</th>\n",
       "      <td>2401</td>\n",
       "      <td>Borderlands</td>\n",
       "      <td>Positive</td>\n",
       "      <td>im getting on borderlands and i will kill you ...</td>\n",
       "    </tr>\n",
       "    <tr>\n",
       "      <th>3</th>\n",
       "      <td>2401</td>\n",
       "      <td>Borderlands</td>\n",
       "      <td>Positive</td>\n",
       "      <td>im coming on borderlands and i will murder you...</td>\n",
       "    </tr>\n",
       "    <tr>\n",
       "      <th>4</th>\n",
       "      <td>2401</td>\n",
       "      <td>Borderlands</td>\n",
       "      <td>Positive</td>\n",
       "      <td>im getting on borderlands 2 and i will murder ...</td>\n",
       "    </tr>\n",
       "  </tbody>\n",
       "</table>\n",
       "</div>"
      ],
      "text/plain": [
       "   Tweet_ID       Entity Sentiment  \\\n",
       "0      2401  Borderlands  Positive   \n",
       "1      2401  Borderlands  Positive   \n",
       "2      2401  Borderlands  Positive   \n",
       "3      2401  Borderlands  Positive   \n",
       "4      2401  Borderlands  Positive   \n",
       "\n",
       "                                       Tweet_content  \n",
       "0  im getting on borderlands and i will murder yo...  \n",
       "1  I am coming to the borders and I will kill you...  \n",
       "2  im getting on borderlands and i will kill you ...  \n",
       "3  im coming on borderlands and i will murder you...  \n",
       "4  im getting on borderlands 2 and i will murder ...  "
      ]
     },
     "execution_count": 4,
     "metadata": {},
     "output_type": "execute_result"
    }
   ],
   "source": [
    "train.columns=['Tweet_ID','Entity','Sentiment','Tweet_content']\n",
    "train.head()"
   ]
  },
  {
   "cell_type": "markdown",
   "metadata": {
    "papermill": {
     "duration": 0.011863,
     "end_time": "2023-03-15T23:45:02.159584",
     "exception": false,
     "start_time": "2023-03-15T23:45:02.147721",
     "status": "completed"
    },
    "tags": []
   },
   "source": [
    "Then, with the validation data, the information of the first 5 rows didn't show any unusual labeling."
   ]
  },
  {
   "cell_type": "code",
   "execution_count": 5,
   "metadata": {
    "execution": {
     "iopub.execute_input": "2023-06-17T17:08:45.788549Z",
     "iopub.status.busy": "2023-06-17T17:08:45.788082Z",
     "iopub.status.idle": "2023-06-17T17:08:45.806584Z",
     "shell.execute_reply": "2023-06-17T17:08:45.805382Z",
     "shell.execute_reply.started": "2023-06-17T17:08:45.788510Z"
    },
    "papermill": {
     "duration": 0.026223,
     "end_time": "2023-03-15T23:45:02.197921",
     "exception": false,
     "start_time": "2023-03-15T23:45:02.171698",
     "status": "completed"
    },
    "tags": []
   },
   "outputs": [
    {
     "data": {
      "text/html": [
       "<div>\n",
       "<style scoped>\n",
       "    .dataframe tbody tr th:only-of-type {\n",
       "        vertical-align: middle;\n",
       "    }\n",
       "\n",
       "    .dataframe tbody tr th {\n",
       "        vertical-align: top;\n",
       "    }\n",
       "\n",
       "    .dataframe thead th {\n",
       "        text-align: right;\n",
       "    }\n",
       "</style>\n",
       "<table border=\"1\" class=\"dataframe\">\n",
       "  <thead>\n",
       "    <tr style=\"text-align: right;\">\n",
       "      <th></th>\n",
       "      <th>Tweet_ID</th>\n",
       "      <th>Entity</th>\n",
       "      <th>Sentiment</th>\n",
       "      <th>Tweet_content</th>\n",
       "    </tr>\n",
       "  </thead>\n",
       "  <tbody>\n",
       "    <tr>\n",
       "      <th>0</th>\n",
       "      <td>3364</td>\n",
       "      <td>Facebook</td>\n",
       "      <td>Irrelevant</td>\n",
       "      <td>I mentioned on Facebook that I was struggling ...</td>\n",
       "    </tr>\n",
       "    <tr>\n",
       "      <th>1</th>\n",
       "      <td>352</td>\n",
       "      <td>Amazon</td>\n",
       "      <td>Neutral</td>\n",
       "      <td>BBC News - Amazon boss Jeff Bezos rejects clai...</td>\n",
       "    </tr>\n",
       "    <tr>\n",
       "      <th>2</th>\n",
       "      <td>8312</td>\n",
       "      <td>Microsoft</td>\n",
       "      <td>Negative</td>\n",
       "      <td>@Microsoft Why do I pay for WORD when it funct...</td>\n",
       "    </tr>\n",
       "    <tr>\n",
       "      <th>3</th>\n",
       "      <td>4371</td>\n",
       "      <td>CS-GO</td>\n",
       "      <td>Negative</td>\n",
       "      <td>CSGO matchmaking is so full of closet hacking,...</td>\n",
       "    </tr>\n",
       "    <tr>\n",
       "      <th>4</th>\n",
       "      <td>4433</td>\n",
       "      <td>Google</td>\n",
       "      <td>Neutral</td>\n",
       "      <td>Now the President is slapping Americans in the...</td>\n",
       "    </tr>\n",
       "  </tbody>\n",
       "</table>\n",
       "</div>"
      ],
      "text/plain": [
       "   Tweet_ID     Entity   Sentiment  \\\n",
       "0      3364   Facebook  Irrelevant   \n",
       "1       352     Amazon     Neutral   \n",
       "2      8312  Microsoft    Negative   \n",
       "3      4371      CS-GO    Negative   \n",
       "4      4433     Google     Neutral   \n",
       "\n",
       "                                       Tweet_content  \n",
       "0  I mentioned on Facebook that I was struggling ...  \n",
       "1  BBC News - Amazon boss Jeff Bezos rejects clai...  \n",
       "2  @Microsoft Why do I pay for WORD when it funct...  \n",
       "3  CSGO matchmaking is so full of closet hacking,...  \n",
       "4  Now the President is slapping Americans in the...  "
      ]
     },
     "execution_count": 5,
     "metadata": {},
     "output_type": "execute_result"
    }
   ],
   "source": [
    "val.columns=['Tweet_ID','Entity','Sentiment','Tweet_content']\n",
    "val.head()"
   ]
  },
  {
   "cell_type": "code",
   "execution_count": 6,
   "metadata": {
    "execution": {
     "iopub.execute_input": "2023-06-17T17:08:45.810163Z",
     "iopub.status.busy": "2023-06-17T17:08:45.809778Z",
     "iopub.status.idle": "2023-06-17T17:08:45.829091Z",
     "shell.execute_reply": "2023-06-17T17:08:45.827743Z",
     "shell.execute_reply.started": "2023-06-17T17:08:45.810131Z"
    },
    "papermill": {
     "duration": 0.028969,
     "end_time": "2023-03-15T23:45:02.239345",
     "exception": false,
     "start_time": "2023-03-15T23:45:02.210376",
     "status": "completed"
    },
    "tags": []
   },
   "outputs": [
    {
     "data": {
      "text/html": [
       "<div>\n",
       "<style scoped>\n",
       "    .dataframe tbody tr th:only-of-type {\n",
       "        vertical-align: middle;\n",
       "    }\n",
       "\n",
       "    .dataframe tbody tr th {\n",
       "        vertical-align: top;\n",
       "    }\n",
       "\n",
       "    .dataframe thead th {\n",
       "        text-align: right;\n",
       "    }\n",
       "</style>\n",
       "<table border=\"1\" class=\"dataframe\">\n",
       "  <thead>\n",
       "    <tr style=\"text-align: right;\">\n",
       "      <th></th>\n",
       "      <th>Tweet_ID</th>\n",
       "      <th>Entity</th>\n",
       "      <th>Sentiment</th>\n",
       "      <th>Tweet_content</th>\n",
       "    </tr>\n",
       "  </thead>\n",
       "  <tbody>\n",
       "    <tr>\n",
       "      <th>0</th>\n",
       "      <td>2401</td>\n",
       "      <td>Borderlands</td>\n",
       "      <td>Positive</td>\n",
       "      <td>im getting on borderlands and i will murder yo...</td>\n",
       "    </tr>\n",
       "    <tr>\n",
       "      <th>1</th>\n",
       "      <td>2401</td>\n",
       "      <td>Borderlands</td>\n",
       "      <td>Positive</td>\n",
       "      <td>I am coming to the borders and I will kill you...</td>\n",
       "    </tr>\n",
       "    <tr>\n",
       "      <th>2</th>\n",
       "      <td>2401</td>\n",
       "      <td>Borderlands</td>\n",
       "      <td>Positive</td>\n",
       "      <td>im getting on borderlands and i will kill you ...</td>\n",
       "    </tr>\n",
       "    <tr>\n",
       "      <th>3</th>\n",
       "      <td>2401</td>\n",
       "      <td>Borderlands</td>\n",
       "      <td>Positive</td>\n",
       "      <td>im coming on borderlands and i will murder you...</td>\n",
       "    </tr>\n",
       "    <tr>\n",
       "      <th>4</th>\n",
       "      <td>2401</td>\n",
       "      <td>Borderlands</td>\n",
       "      <td>Positive</td>\n",
       "      <td>im getting on borderlands 2 and i will murder ...</td>\n",
       "    </tr>\n",
       "    <tr>\n",
       "      <th>...</th>\n",
       "      <td>...</td>\n",
       "      <td>...</td>\n",
       "      <td>...</td>\n",
       "      <td>...</td>\n",
       "    </tr>\n",
       "    <tr>\n",
       "      <th>74677</th>\n",
       "      <td>9200</td>\n",
       "      <td>Nvidia</td>\n",
       "      <td>Positive</td>\n",
       "      <td>Just realized that the Windows partition of my...</td>\n",
       "    </tr>\n",
       "    <tr>\n",
       "      <th>74678</th>\n",
       "      <td>9200</td>\n",
       "      <td>Nvidia</td>\n",
       "      <td>Positive</td>\n",
       "      <td>Just realized that my Mac window partition is ...</td>\n",
       "    </tr>\n",
       "    <tr>\n",
       "      <th>74679</th>\n",
       "      <td>9200</td>\n",
       "      <td>Nvidia</td>\n",
       "      <td>Positive</td>\n",
       "      <td>Just realized the windows partition of my Mac ...</td>\n",
       "    </tr>\n",
       "    <tr>\n",
       "      <th>74680</th>\n",
       "      <td>9200</td>\n",
       "      <td>Nvidia</td>\n",
       "      <td>Positive</td>\n",
       "      <td>Just realized between the windows partition of...</td>\n",
       "    </tr>\n",
       "    <tr>\n",
       "      <th>74681</th>\n",
       "      <td>9200</td>\n",
       "      <td>Nvidia</td>\n",
       "      <td>Positive</td>\n",
       "      <td>Just like the windows partition of my Mac is l...</td>\n",
       "    </tr>\n",
       "  </tbody>\n",
       "</table>\n",
       "<p>74682 rows × 4 columns</p>\n",
       "</div>"
      ],
      "text/plain": [
       "       Tweet_ID       Entity Sentiment  \\\n",
       "0          2401  Borderlands  Positive   \n",
       "1          2401  Borderlands  Positive   \n",
       "2          2401  Borderlands  Positive   \n",
       "3          2401  Borderlands  Positive   \n",
       "4          2401  Borderlands  Positive   \n",
       "...         ...          ...       ...   \n",
       "74677      9200       Nvidia  Positive   \n",
       "74678      9200       Nvidia  Positive   \n",
       "74679      9200       Nvidia  Positive   \n",
       "74680      9200       Nvidia  Positive   \n",
       "74681      9200       Nvidia  Positive   \n",
       "\n",
       "                                           Tweet_content  \n",
       "0      im getting on borderlands and i will murder yo...  \n",
       "1      I am coming to the borders and I will kill you...  \n",
       "2      im getting on borderlands and i will kill you ...  \n",
       "3      im coming on borderlands and i will murder you...  \n",
       "4      im getting on borderlands 2 and i will murder ...  \n",
       "...                                                  ...  \n",
       "74677  Just realized that the Windows partition of my...  \n",
       "74678  Just realized that my Mac window partition is ...  \n",
       "74679  Just realized the windows partition of my Mac ...  \n",
       "74680  Just realized between the windows partition of...  \n",
       "74681  Just like the windows partition of my Mac is l...  \n",
       "\n",
       "[74682 rows x 4 columns]"
      ]
     },
     "execution_count": 6,
     "metadata": {},
     "output_type": "execute_result"
    }
   ],
   "source": [
    "train_data=train\n",
    "train_data"
   ]
  },
  {
   "cell_type": "code",
   "execution_count": 7,
   "metadata": {
    "execution": {
     "iopub.execute_input": "2023-06-17T17:08:45.831503Z",
     "iopub.status.busy": "2023-06-17T17:08:45.830761Z",
     "iopub.status.idle": "2023-06-17T17:08:45.850807Z",
     "shell.execute_reply": "2023-06-17T17:08:45.849499Z",
     "shell.execute_reply.started": "2023-06-17T17:08:45.831460Z"
    },
    "papermill": {
     "duration": 0.02726,
     "end_time": "2023-03-15T23:45:02.279018",
     "exception": false,
     "start_time": "2023-03-15T23:45:02.251758",
     "status": "completed"
    },
    "tags": []
   },
   "outputs": [
    {
     "data": {
      "text/html": [
       "<div>\n",
       "<style scoped>\n",
       "    .dataframe tbody tr th:only-of-type {\n",
       "        vertical-align: middle;\n",
       "    }\n",
       "\n",
       "    .dataframe tbody tr th {\n",
       "        vertical-align: top;\n",
       "    }\n",
       "\n",
       "    .dataframe thead th {\n",
       "        text-align: right;\n",
       "    }\n",
       "</style>\n",
       "<table border=\"1\" class=\"dataframe\">\n",
       "  <thead>\n",
       "    <tr style=\"text-align: right;\">\n",
       "      <th></th>\n",
       "      <th>Tweet_ID</th>\n",
       "      <th>Entity</th>\n",
       "      <th>Sentiment</th>\n",
       "      <th>Tweet_content</th>\n",
       "    </tr>\n",
       "  </thead>\n",
       "  <tbody>\n",
       "    <tr>\n",
       "      <th>0</th>\n",
       "      <td>3364</td>\n",
       "      <td>Facebook</td>\n",
       "      <td>Irrelevant</td>\n",
       "      <td>I mentioned on Facebook that I was struggling ...</td>\n",
       "    </tr>\n",
       "    <tr>\n",
       "      <th>1</th>\n",
       "      <td>352</td>\n",
       "      <td>Amazon</td>\n",
       "      <td>Neutral</td>\n",
       "      <td>BBC News - Amazon boss Jeff Bezos rejects clai...</td>\n",
       "    </tr>\n",
       "    <tr>\n",
       "      <th>2</th>\n",
       "      <td>8312</td>\n",
       "      <td>Microsoft</td>\n",
       "      <td>Negative</td>\n",
       "      <td>@Microsoft Why do I pay for WORD when it funct...</td>\n",
       "    </tr>\n",
       "    <tr>\n",
       "      <th>3</th>\n",
       "      <td>4371</td>\n",
       "      <td>CS-GO</td>\n",
       "      <td>Negative</td>\n",
       "      <td>CSGO matchmaking is so full of closet hacking,...</td>\n",
       "    </tr>\n",
       "    <tr>\n",
       "      <th>4</th>\n",
       "      <td>4433</td>\n",
       "      <td>Google</td>\n",
       "      <td>Neutral</td>\n",
       "      <td>Now the President is slapping Americans in the...</td>\n",
       "    </tr>\n",
       "    <tr>\n",
       "      <th>...</th>\n",
       "      <td>...</td>\n",
       "      <td>...</td>\n",
       "      <td>...</td>\n",
       "      <td>...</td>\n",
       "    </tr>\n",
       "    <tr>\n",
       "      <th>995</th>\n",
       "      <td>4891</td>\n",
       "      <td>GrandTheftAuto(GTA)</td>\n",
       "      <td>Irrelevant</td>\n",
       "      <td>⭐️ Toronto is the arts and culture capital of ...</td>\n",
       "    </tr>\n",
       "    <tr>\n",
       "      <th>996</th>\n",
       "      <td>4359</td>\n",
       "      <td>CS-GO</td>\n",
       "      <td>Irrelevant</td>\n",
       "      <td>tHIS IS ACTUALLY A GOOD MOVE TOT BRING MORE VI...</td>\n",
       "    </tr>\n",
       "    <tr>\n",
       "      <th>997</th>\n",
       "      <td>2652</td>\n",
       "      <td>Borderlands</td>\n",
       "      <td>Positive</td>\n",
       "      <td>Today sucked so it’s time to drink wine n play...</td>\n",
       "    </tr>\n",
       "    <tr>\n",
       "      <th>998</th>\n",
       "      <td>8069</td>\n",
       "      <td>Microsoft</td>\n",
       "      <td>Positive</td>\n",
       "      <td>Bought a fraction of Microsoft today. Small wins.</td>\n",
       "    </tr>\n",
       "    <tr>\n",
       "      <th>999</th>\n",
       "      <td>6960</td>\n",
       "      <td>johnson&amp;johnson</td>\n",
       "      <td>Neutral</td>\n",
       "      <td>Johnson &amp; Johnson to stop selling talc baby po...</td>\n",
       "    </tr>\n",
       "  </tbody>\n",
       "</table>\n",
       "<p>1000 rows × 4 columns</p>\n",
       "</div>"
      ],
      "text/plain": [
       "     Tweet_ID               Entity   Sentiment  \\\n",
       "0        3364             Facebook  Irrelevant   \n",
       "1         352               Amazon     Neutral   \n",
       "2        8312            Microsoft    Negative   \n",
       "3        4371                CS-GO    Negative   \n",
       "4        4433               Google     Neutral   \n",
       "..        ...                  ...         ...   \n",
       "995      4891  GrandTheftAuto(GTA)  Irrelevant   \n",
       "996      4359                CS-GO  Irrelevant   \n",
       "997      2652          Borderlands    Positive   \n",
       "998      8069            Microsoft    Positive   \n",
       "999      6960      johnson&johnson     Neutral   \n",
       "\n",
       "                                         Tweet_content  \n",
       "0    I mentioned on Facebook that I was struggling ...  \n",
       "1    BBC News - Amazon boss Jeff Bezos rejects clai...  \n",
       "2    @Microsoft Why do I pay for WORD when it funct...  \n",
       "3    CSGO matchmaking is so full of closet hacking,...  \n",
       "4    Now the President is slapping Americans in the...  \n",
       "..                                                 ...  \n",
       "995  ⭐️ Toronto is the arts and culture capital of ...  \n",
       "996  tHIS IS ACTUALLY A GOOD MOVE TOT BRING MORE VI...  \n",
       "997  Today sucked so it’s time to drink wine n play...  \n",
       "998  Bought a fraction of Microsoft today. Small wins.  \n",
       "999  Johnson & Johnson to stop selling talc baby po...  \n",
       "\n",
       "[1000 rows x 4 columns]"
      ]
     },
     "execution_count": 7,
     "metadata": {},
     "output_type": "execute_result"
    }
   ],
   "source": [
    "val_data=val\n",
    "val_data"
   ]
  },
  {
   "cell_type": "markdown",
   "metadata": {
    "papermill": {
     "duration": 0.012307,
     "end_time": "2023-03-15T23:45:02.303899",
     "exception": false,
     "start_time": "2023-03-15T23:45:02.291592",
     "status": "completed"
    },
    "tags": []
   },
   "source": [
    "To prepare the data for the text analysis an additional row was created using the method of `str.lower`. However, as there were some texts with only numerical values (such as one that only had a 2 as the tweet) an additional function was used for transforming all the data to string.\n",
    "\n",
    "Then, a regex expression erased the special characters as it is common to have digitation problems on Twitter."
   ]
  },
  {
   "cell_type": "code",
   "execution_count": 8,
   "metadata": {
    "execution": {
     "iopub.execute_input": "2023-06-17T17:08:45.853035Z",
     "iopub.status.busy": "2023-06-17T17:08:45.852476Z",
     "iopub.status.idle": "2023-06-17T17:08:46.557570Z",
     "shell.execute_reply": "2023-06-17T17:08:46.556318Z",
     "shell.execute_reply.started": "2023-06-17T17:08:45.853003Z"
    },
    "papermill": {
     "duration": 0.382214,
     "end_time": "2023-03-15T23:45:02.699506",
     "exception": false,
     "start_time": "2023-03-15T23:45:02.317292",
     "status": "completed"
    },
    "tags": []
   },
   "outputs": [],
   "source": [
    "#Text transformation\n",
    "#lower case\n",
    "train_data[\"tweet_lower\"]=train_data.Tweet_content.str.lower() #lowercase\n",
    "train_data[\"tweet_lower\"]=[str(data) for data in train_data.tweet_lower] #converting all to string\n",
    "\n",
    "\n",
    "val_data[\"tweet_lower\"]=val_data.Tweet_content.str.lower() #lowercase\n",
    "val_data[\"tweet_lower\"]=[str(data) for data in val_data.tweet_lower] #converting all to string\n",
    "\n",
    "#special characters are erased\n",
    "train_data[\"tweet_lower\"]=train_data.tweet_lower.apply(lambda x: re.sub('[^A-Za-z0-9 ]+', ' ', x)) #regex\n",
    "val_data[\"tweet_lower\"]=val_data.tweet_lower.apply(lambda x: re.sub('[^A-Za-z0-9 ]+', ' ', x)) #regex"
   ]
  },
  {
   "cell_type": "markdown",
   "metadata": {
    "papermill": {
     "duration": 0.012736,
     "end_time": "2023-03-15T23:45:02.725662",
     "exception": false,
     "start_time": "2023-03-15T23:45:02.712926",
     "status": "completed"
    },
    "tags": []
   },
   "source": [
    "The differences between the two text columns are presented in the next table."
   ]
  },
  {
   "cell_type": "code",
   "execution_count": 9,
   "metadata": {
    "execution": {
     "iopub.execute_input": "2023-06-17T17:08:46.559839Z",
     "iopub.status.busy": "2023-06-17T17:08:46.559398Z",
     "iopub.status.idle": "2023-06-17T17:08:46.576549Z",
     "shell.execute_reply": "2023-06-17T17:08:46.575196Z",
     "shell.execute_reply.started": "2023-06-17T17:08:46.559798Z"
    },
    "papermill": {
     "duration": 0.031228,
     "end_time": "2023-03-15T23:45:02.770135",
     "exception": false,
     "start_time": "2023-03-15T23:45:02.738907",
     "status": "completed"
    },
    "tags": []
   },
   "outputs": [
    {
     "data": {
      "text/html": [
       "<div>\n",
       "<style scoped>\n",
       "    .dataframe tbody tr th:only-of-type {\n",
       "        vertical-align: middle;\n",
       "    }\n",
       "\n",
       "    .dataframe tbody tr th {\n",
       "        vertical-align: top;\n",
       "    }\n",
       "\n",
       "    .dataframe thead th {\n",
       "        text-align: right;\n",
       "    }\n",
       "</style>\n",
       "<table border=\"1\" class=\"dataframe\">\n",
       "  <thead>\n",
       "    <tr style=\"text-align: right;\">\n",
       "      <th></th>\n",
       "      <th>Tweet_ID</th>\n",
       "      <th>Entity</th>\n",
       "      <th>Sentiment</th>\n",
       "      <th>Tweet_content</th>\n",
       "      <th>tweet_lower</th>\n",
       "    </tr>\n",
       "  </thead>\n",
       "  <tbody>\n",
       "    <tr>\n",
       "      <th>0</th>\n",
       "      <td>2401</td>\n",
       "      <td>Borderlands</td>\n",
       "      <td>Positive</td>\n",
       "      <td>im getting on borderlands and i will murder yo...</td>\n",
       "      <td>im getting on borderlands and i will murder yo...</td>\n",
       "    </tr>\n",
       "    <tr>\n",
       "      <th>1</th>\n",
       "      <td>2401</td>\n",
       "      <td>Borderlands</td>\n",
       "      <td>Positive</td>\n",
       "      <td>I am coming to the borders and I will kill you...</td>\n",
       "      <td>i am coming to the borders and i will kill you...</td>\n",
       "    </tr>\n",
       "    <tr>\n",
       "      <th>2</th>\n",
       "      <td>2401</td>\n",
       "      <td>Borderlands</td>\n",
       "      <td>Positive</td>\n",
       "      <td>im getting on borderlands and i will kill you ...</td>\n",
       "      <td>im getting on borderlands and i will kill you ...</td>\n",
       "    </tr>\n",
       "    <tr>\n",
       "      <th>3</th>\n",
       "      <td>2401</td>\n",
       "      <td>Borderlands</td>\n",
       "      <td>Positive</td>\n",
       "      <td>im coming on borderlands and i will murder you...</td>\n",
       "      <td>im coming on borderlands and i will murder you...</td>\n",
       "    </tr>\n",
       "    <tr>\n",
       "      <th>4</th>\n",
       "      <td>2401</td>\n",
       "      <td>Borderlands</td>\n",
       "      <td>Positive</td>\n",
       "      <td>im getting on borderlands 2 and i will murder ...</td>\n",
       "      <td>im getting on borderlands 2 and i will murder ...</td>\n",
       "    </tr>\n",
       "  </tbody>\n",
       "</table>\n",
       "</div>"
      ],
      "text/plain": [
       "   Tweet_ID       Entity Sentiment  \\\n",
       "0      2401  Borderlands  Positive   \n",
       "1      2401  Borderlands  Positive   \n",
       "2      2401  Borderlands  Positive   \n",
       "3      2401  Borderlands  Positive   \n",
       "4      2401  Borderlands  Positive   \n",
       "\n",
       "                                       Tweet_content  \\\n",
       "0  im getting on borderlands and i will murder yo...   \n",
       "1  I am coming to the borders and I will kill you...   \n",
       "2  im getting on borderlands and i will kill you ...   \n",
       "3  im coming on borderlands and i will murder you...   \n",
       "4  im getting on borderlands 2 and i will murder ...   \n",
       "\n",
       "                                         tweet_lower  \n",
       "0  im getting on borderlands and i will murder yo...  \n",
       "1  i am coming to the borders and i will kill you...  \n",
       "2  im getting on borderlands and i will kill you ...  \n",
       "3  im coming on borderlands and i will murder you...  \n",
       "4  im getting on borderlands 2 and i will murder ...  "
      ]
     },
     "execution_count": 9,
     "metadata": {},
     "output_type": "execute_result"
    }
   ],
   "source": [
    "train_data.head()"
   ]
  },
  {
   "cell_type": "code",
   "execution_count": 10,
   "metadata": {},
   "outputs": [
    {
     "name": "stdout",
     "output_type": "stream",
     "text": [
      "Train dataset\n",
      "Tweet_ID           0\n",
      "Entity             0\n",
      "Sentiment          0\n",
      "Tweet_content    686\n",
      "tweet_lower        0\n",
      "dtype: int64\n",
      "********************\n",
      "Validation dataset\n",
      "Tweet_ID         0\n",
      "Entity           0\n",
      "Sentiment        0\n",
      "Tweet_content    0\n",
      "tweet_lower      0\n",
      "dtype: int64\n"
     ]
    }
   ],
   "source": [
    "# checking nan values \n",
    "print(\"Train dataset\")\n",
    "print(train_data.isna().sum())\n",
    "print(\"*\"*20)\n",
    "print(\"Validation dataset\")\n",
    "print(val_data.isna().sum())"
   ]
  },
  {
   "cell_type": "code",
   "execution_count": 11,
   "metadata": {},
   "outputs": [
    {
     "name": "stdout",
     "output_type": "stream",
     "text": [
      "Train dataset\n",
      "2700\n",
      "***************\n",
      "Validation dataset\n",
      "0\n"
     ]
    }
   ],
   "source": [
    "# checking duplicated values\n",
    "print(\"Train dataset\")\n",
    "print(train_data.duplicated().sum())\n",
    "print(\"*\"*15)\n",
    "print(\"Validation dataset\")\n",
    "print(val_data.duplicated().sum())"
   ]
  },
  {
   "cell_type": "code",
   "execution_count": 12,
   "metadata": {},
   "outputs": [],
   "source": [
    "# remove duplicate and nan values\n",
    "train_data.dropna(inplace=True)\n",
    "train_data.drop_duplicates(inplace=True)"
   ]
  },
  {
   "cell_type": "code",
   "execution_count": 13,
   "metadata": {},
   "outputs": [],
   "source": [
    "#remove urls\n",
    "def remove_urls(text):\n",
    "    url_pattern = re.compile(r'https?://\\S+|www\\.\\S+')\n",
    "    return url_pattern.sub(r'', text)"
   ]
  },
  {
   "cell_type": "code",
   "execution_count": 14,
   "metadata": {},
   "outputs": [],
   "source": [
    "train_data['tweet_lower'] = train_data['tweet_lower'].apply(lambda x: remove_urls(x))\n",
    "val_data['tweet_lower'] = val_data['tweet_lower'].apply(lambda x: remove_urls(x))"
   ]
  },
  {
   "cell_type": "code",
   "execution_count": 15,
   "metadata": {},
   "outputs": [],
   "source": [
    "## remove emojis from tweet content\n",
    "def remove_emojis(text):\n",
    "   \n",
    "    emoji_pattern = re.compile(\"[\"\n",
    "                               u\"\\U0001F600-\\U0001F64F\" \n",
    "                               u\"\\U0001F300-\\U0001F5FF\"  \n",
    "                               u\"\\U0001F680-\\U0001F6FF\"  \n",
    "                               u\"\\U0001F1E0-\\U0001F1FF\" \n",
    "                               u\"\\U00002702-\\U000027B0\"  \n",
    "                               u\"\\U000024C2-\\U0001F251\"  \n",
    "                               \"]+\", flags=re.UNICODE)\n",
    "    return emoji_pattern.sub(r'', text)"
   ]
  },
  {
   "cell_type": "code",
   "execution_count": 16,
   "metadata": {},
   "outputs": [],
   "source": [
    "train_data['tweet_lower'] = train_data['tweet_lower'].apply(lambda x: remove_emojis(x))\n",
    "val_data['tweet_lower'] = val_data['tweet_lower'].apply(lambda x: remove_emojis(x))"
   ]
  },
  {
   "cell_type": "code",
   "execution_count": 17,
   "metadata": {},
   "outputs": [
    {
     "data": {
      "text/plain": [
       "(71656, 5)"
      ]
     },
     "execution_count": 17,
     "metadata": {},
     "output_type": "execute_result"
    }
   ],
   "source": [
    "train_data.shape"
   ]
  },
  {
   "cell_type": "code",
   "execution_count": 18,
   "metadata": {},
   "outputs": [
    {
     "data": {
      "text/plain": [
       "(1000, 5)"
      ]
     },
     "execution_count": 18,
     "metadata": {},
     "output_type": "execute_result"
    }
   ],
   "source": [
    "val_data.shape"
   ]
  },
  {
   "cell_type": "code",
   "execution_count": 19,
   "metadata": {},
   "outputs": [
    {
     "data": {
      "text/html": [
       "<div>\n",
       "<style scoped>\n",
       "    .dataframe tbody tr th:only-of-type {\n",
       "        vertical-align: middle;\n",
       "    }\n",
       "\n",
       "    .dataframe tbody tr th {\n",
       "        vertical-align: top;\n",
       "    }\n",
       "\n",
       "    .dataframe thead th {\n",
       "        text-align: right;\n",
       "    }\n",
       "</style>\n",
       "<table border=\"1\" class=\"dataframe\">\n",
       "  <thead>\n",
       "    <tr style=\"text-align: right;\">\n",
       "      <th></th>\n",
       "      <th>Tweet_ID</th>\n",
       "      <th>Entity</th>\n",
       "      <th>Sentiment</th>\n",
       "      <th>Tweet_content</th>\n",
       "      <th>tweet_lower</th>\n",
       "    </tr>\n",
       "  </thead>\n",
       "  <tbody>\n",
       "    <tr>\n",
       "      <th>995</th>\n",
       "      <td>4891</td>\n",
       "      <td>GrandTheftAuto(GTA)</td>\n",
       "      <td>Irrelevant</td>\n",
       "      <td>⭐️ Toronto is the arts and culture capital of ...</td>\n",
       "      <td>toronto is the arts and culture capital of c...</td>\n",
       "    </tr>\n",
       "  </tbody>\n",
       "</table>\n",
       "</div>"
      ],
      "text/plain": [
       "     Tweet_ID               Entity   Sentiment  \\\n",
       "995      4891  GrandTheftAuto(GTA)  Irrelevant   \n",
       "\n",
       "                                         Tweet_content  \\\n",
       "995  ⭐️ Toronto is the arts and culture capital of ...   \n",
       "\n",
       "                                           tweet_lower  \n",
       "995    toronto is the arts and culture capital of c...  "
      ]
     },
     "execution_count": 19,
     "metadata": {},
     "output_type": "execute_result"
    }
   ],
   "source": [
    "val_data[val_data['Tweet_ID']==4891]"
   ]
  },
  {
   "cell_type": "code",
   "execution_count": 20,
   "metadata": {},
   "outputs": [],
   "source": [
    "# the last step in the prepping of data for modeling is translate non-english strings to english using google translate api\n",
    "#import googletrans\n",
    "#from googletrans import Translator, constants\n",
    "#from pprint import pprint"
   ]
  },
  {
   "cell_type": "markdown",
   "metadata": {
    "papermill": {
     "duration": 0.012963,
     "end_time": "2023-03-15T23:45:02.796749",
     "exception": false,
     "start_time": "2023-03-15T23:45:02.783786",
     "status": "completed"
    },
    "tags": []
   },
   "source": [
    "# 2. Plotting features\n",
    "\n",
    "As to identify the main words that were used per label, a word_cloud was used to see which are the most important words on the train data. For example, on the positive label words such as love and game were mostly used alongside a wide variety of words classified as \"good sentiments\"."
   ]
  },
  {
   "cell_type": "markdown",
   "metadata": {
    "papermill": {
     "duration": 0.027214,
     "end_time": "2023-03-15T23:45:55.434885",
     "exception": false,
     "start_time": "2023-03-15T23:45:55.407671",
     "status": "completed"
    },
    "tags": []
   },
   "source": [
    "Finally, in this section, the information was grouped by the brand (or in this case the column information) to make a barplot that shows the number of tweets for each one."
   ]
  },
  {
   "cell_type": "code",
   "execution_count": 21,
   "metadata": {
    "execution": {
     "iopub.execute_input": "2023-06-17T17:09:34.940379Z",
     "iopub.status.busy": "2023-06-17T17:09:34.939544Z",
     "iopub.status.idle": "2023-06-17T17:09:35.030682Z",
     "shell.execute_reply": "2023-06-17T17:09:35.029278Z",
     "shell.execute_reply.started": "2023-06-17T17:09:34.940342Z"
    },
    "papermill": {
     "duration": 0.077484,
     "end_time": "2023-03-15T23:45:55.537878",
     "exception": false,
     "start_time": "2023-03-15T23:45:55.460394",
     "status": "completed"
    },
    "tags": []
   },
   "outputs": [
    {
     "data": {
      "text/html": [
       "<div>\n",
       "<style scoped>\n",
       "    .dataframe tbody tr th:only-of-type {\n",
       "        vertical-align: middle;\n",
       "    }\n",
       "\n",
       "    .dataframe tbody tr th {\n",
       "        vertical-align: top;\n",
       "    }\n",
       "\n",
       "    .dataframe thead th {\n",
       "        text-align: right;\n",
       "    }\n",
       "</style>\n",
       "<table border=\"1\" class=\"dataframe\">\n",
       "  <thead>\n",
       "    <tr style=\"text-align: right;\">\n",
       "      <th></th>\n",
       "      <th>Entity</th>\n",
       "      <th>Sentiment</th>\n",
       "      <th>Tweet_ID</th>\n",
       "      <th>Tweet_content</th>\n",
       "      <th>tweet_lower</th>\n",
       "    </tr>\n",
       "  </thead>\n",
       "  <tbody>\n",
       "    <tr>\n",
       "      <th>0</th>\n",
       "      <td>Amazon</td>\n",
       "      <td>Irrelevant</td>\n",
       "      <td>185</td>\n",
       "      <td>185</td>\n",
       "      <td>185</td>\n",
       "    </tr>\n",
       "    <tr>\n",
       "      <th>1</th>\n",
       "      <td>Amazon</td>\n",
       "      <td>Negative</td>\n",
       "      <td>565</td>\n",
       "      <td>565</td>\n",
       "      <td>565</td>\n",
       "    </tr>\n",
       "    <tr>\n",
       "      <th>2</th>\n",
       "      <td>Amazon</td>\n",
       "      <td>Neutral</td>\n",
       "      <td>1197</td>\n",
       "      <td>1197</td>\n",
       "      <td>1197</td>\n",
       "    </tr>\n",
       "    <tr>\n",
       "      <th>3</th>\n",
       "      <td>Amazon</td>\n",
       "      <td>Positive</td>\n",
       "      <td>302</td>\n",
       "      <td>302</td>\n",
       "      <td>302</td>\n",
       "    </tr>\n",
       "    <tr>\n",
       "      <th>4</th>\n",
       "      <td>ApexLegends</td>\n",
       "      <td>Irrelevant</td>\n",
       "      <td>185</td>\n",
       "      <td>185</td>\n",
       "      <td>185</td>\n",
       "    </tr>\n",
       "  </tbody>\n",
       "</table>\n",
       "</div>"
      ],
      "text/plain": [
       "        Entity   Sentiment  Tweet_ID  Tweet_content  tweet_lower\n",
       "0       Amazon  Irrelevant       185            185          185\n",
       "1       Amazon    Negative       565            565          565\n",
       "2       Amazon     Neutral      1197           1197         1197\n",
       "3       Amazon    Positive       302            302          302\n",
       "4  ApexLegends  Irrelevant       185            185          185"
      ]
     },
     "execution_count": 21,
     "metadata": {},
     "output_type": "execute_result"
    }
   ],
   "source": [
    "#Count information per category in training data\n",
    "plot1=train_data.groupby(by=[\"Entity\",\"Sentiment\"]).count().reset_index()\n",
    "plot1.head()"
   ]
  },
  {
   "cell_type": "code",
   "execution_count": 22,
   "metadata": {},
   "outputs": [
    {
     "data": {
      "text/html": [
       "<div>\n",
       "<style scoped>\n",
       "    .dataframe tbody tr th:only-of-type {\n",
       "        vertical-align: middle;\n",
       "    }\n",
       "\n",
       "    .dataframe tbody tr th {\n",
       "        vertical-align: top;\n",
       "    }\n",
       "\n",
       "    .dataframe thead th {\n",
       "        text-align: right;\n",
       "    }\n",
       "</style>\n",
       "<table border=\"1\" class=\"dataframe\">\n",
       "  <thead>\n",
       "    <tr style=\"text-align: right;\">\n",
       "      <th></th>\n",
       "      <th>Entity</th>\n",
       "      <th>Sentiment</th>\n",
       "      <th>Tweet_ID</th>\n",
       "      <th>Tweet_content</th>\n",
       "      <th>tweet_lower</th>\n",
       "    </tr>\n",
       "  </thead>\n",
       "  <tbody>\n",
       "    <tr>\n",
       "      <th>0</th>\n",
       "      <td>Amazon</td>\n",
       "      <td>Irrelevant</td>\n",
       "      <td>3</td>\n",
       "      <td>3</td>\n",
       "      <td>3</td>\n",
       "    </tr>\n",
       "    <tr>\n",
       "      <th>1</th>\n",
       "      <td>Amazon</td>\n",
       "      <td>Negative</td>\n",
       "      <td>6</td>\n",
       "      <td>6</td>\n",
       "      <td>6</td>\n",
       "    </tr>\n",
       "    <tr>\n",
       "      <th>2</th>\n",
       "      <td>Amazon</td>\n",
       "      <td>Neutral</td>\n",
       "      <td>18</td>\n",
       "      <td>18</td>\n",
       "      <td>18</td>\n",
       "    </tr>\n",
       "    <tr>\n",
       "      <th>3</th>\n",
       "      <td>Amazon</td>\n",
       "      <td>Positive</td>\n",
       "      <td>7</td>\n",
       "      <td>7</td>\n",
       "      <td>7</td>\n",
       "    </tr>\n",
       "    <tr>\n",
       "      <th>4</th>\n",
       "      <td>ApexLegends</td>\n",
       "      <td>Irrelevant</td>\n",
       "      <td>3</td>\n",
       "      <td>3</td>\n",
       "      <td>3</td>\n",
       "    </tr>\n",
       "  </tbody>\n",
       "</table>\n",
       "</div>"
      ],
      "text/plain": [
       "        Entity   Sentiment  Tweet_ID  Tweet_content  tweet_lower\n",
       "0       Amazon  Irrelevant         3              3            3\n",
       "1       Amazon    Negative         6              6            6\n",
       "2       Amazon     Neutral        18             18           18\n",
       "3       Amazon    Positive         7              7            7\n",
       "4  ApexLegends  Irrelevant         3              3            3"
      ]
     },
     "execution_count": 22,
     "metadata": {},
     "output_type": "execute_result"
    }
   ],
   "source": [
    "#Count information per category in training data\n",
    "plot2=val_data.groupby(by=[\"Entity\",\"Sentiment\"]).count().reset_index()\n",
    "plot2.head()"
   ]
  },
  {
   "cell_type": "code",
   "execution_count": 23,
   "metadata": {},
   "outputs": [
    {
     "data": {
      "image/png": "[encoded data removed]",
      "text/plain": [
       "<Figure size 864x432 with 2 Axes>"
      ]
     },
     "metadata": {},
     "output_type": "display_data"
    }
   ],
   "source": [
    "fig , ax = plt.subplots(1,2,figsize=(12,6))\n",
    "\n",
    "ax[0].pie(train_data['Sentiment'].value_counts(),labels=train_data['Sentiment'].value_counts().index,autopct='%.f%%')\n",
    "ax[1].pie(val_data['Sentiment'].value_counts(),labels=val_data['Sentiment'].value_counts().index,autopct='%.f%%')\n",
    "\n",
    "fig.suptitle(\"Proportions of target classes\")\n",
    "ax[0].set_title(\"Train dataset\")\n",
    "ax[1].set_title(\"Validation dataset\")\n",
    "\n",
    "plt.show()"
   ]
  },
  {
   "cell_type": "code",
   "execution_count": 24,
   "metadata": {},
   "outputs": [
    {
     "data": {
      "image/png": "[encoded data removed]",
      "text/plain": [
       "<Figure size 1008x1152 with 2 Axes>"
      ]
     },
     "metadata": {
      "needs_background": "light"
     },
     "output_type": "display_data"
    }
   ],
   "source": [
    "fig ,ax = plt.subplots(2,1,figsize=(14,16))\n",
    "\n",
    "sns.kdeplot(data=train_data,x=(train_data['tweet_lower'].apply(lambda x: len(x))),hue='Sentiment',ax=ax[0])\n",
    "sns.kdeplot(data=val_data,x=(val_data['tweet_lower'].apply(lambda x: len(x))),hue='Sentiment',ax=ax[1])\n",
    "\n",
    "fig.suptitle(\"Length of tweets in datasets\")\n",
    "ax[0].set_title(\"Train dataset\")\n",
    "ax[1].set_title(\"Validation dataset\")\n",
    "\n",
    "plt.show()"
   ]
  },
  {
   "cell_type": "code",
   "execution_count": 25,
   "metadata": {
    "execution": {
     "iopub.execute_input": "2023-06-17T17:09:35.036331Z",
     "iopub.status.busy": "2023-06-17T17:09:35.035941Z",
     "iopub.status.idle": "2023-06-17T17:09:36.540276Z",
     "shell.execute_reply": "2023-06-17T17:09:36.539044Z",
     "shell.execute_reply.started": "2023-06-17T17:09:35.036300Z"
    },
    "papermill": {
     "duration": 1.076905,
     "end_time": "2023-03-15T23:45:56.690364",
     "exception": false,
     "start_time": "2023-03-15T23:45:55.613459",
     "status": "completed"
    },
    "tags": []
   },
   "outputs": [
    {
     "data": {
      "image/png": "[encoded data removed]",
      "text/plain": [
       "<Figure size 1440x432 with 1 Axes>"
      ]
     },
     "metadata": {
      "needs_background": "light"
     },
     "output_type": "display_data"
    }
   ],
   "source": [
    "#Figure of comparison per Entity in training data\n",
    "plt.figure(figsize=(20,6))\n",
    "sns.barplot(data=plot1,x=\"Entity\",y=\"Tweet_ID\",hue=\"Sentiment\")\n",
    "plt.xticks(rotation=90)\n",
    "plt.xlabel(\"Entity\")\n",
    "plt.ylabel(\"Number of tweets\")\n",
    "plt.grid()\n",
    "plt.title(\"Distribution of tweets per Entity and Sentiment\");"
   ]
  },
  {
   "cell_type": "code",
   "execution_count": 26,
   "metadata": {},
   "outputs": [
    {
     "data": {
      "image/png": "[encoded data removed]",
      "text/plain": [
       "<Figure size 1440x432 with 1 Axes>"
      ]
     },
     "metadata": {
      "needs_background": "light"
     },
     "output_type": "display_data"
    }
   ],
   "source": [
    "#Figure of comparison per Entity in validation data\n",
    "plt.figure(figsize=(20,6))\n",
    "sns.barplot(data=plot2,x=\"Entity\",y=\"Tweet_ID\",hue=\"Sentiment\")\n",
    "plt.xticks(rotation=90)\n",
    "plt.xlabel(\"Entity\")\n",
    "plt.ylabel(\"Number of tweets\")\n",
    "plt.grid()\n",
    "plt.title(\"Distribution of tweets per Entity and Sentiment\");"
   ]
  },
  {
   "cell_type": "markdown",
   "metadata": {
    "papermill": {
     "duration": 0.0252,
     "end_time": "2023-03-15T23:45:55.588176",
     "exception": false,
     "start_time": "2023-03-15T23:45:55.562976",
     "status": "completed"
    },
    "tags": []
   },
   "source": [
    "As an interesting fact, the number of modified texts coincides with the id. For this reason, as the ID is unique, the following barplot shows that for games such as MaddenNFL and NBA2K the number of negative tweets is the highest while on the other brands the trend is different."
   ]
  },
  {
   "cell_type": "markdown",
   "metadata": {
    "papermill": {
     "duration": 0.025561,
     "end_time": "2023-03-15T23:45:56.742976",
     "exception": false,
     "start_time": "2023-03-15T23:45:56.717415",
     "status": "completed"
    },
    "tags": []
   },
   "source": [
    "# 3. Text analysis\n",
    "\n",
    "With the clean text, the initial number of unique tokens was counted to identify the model complexity. As presented, there are more than 30 thousand unique words."
   ]
  },
  {
   "cell_type": "code",
   "execution_count": 27,
   "metadata": {
    "execution": {
     "iopub.execute_input": "2023-06-17T17:09:36.542186Z",
     "iopub.status.busy": "2023-06-17T17:09:36.541736Z",
     "iopub.status.idle": "2023-06-17T17:09:55.947258Z",
     "shell.execute_reply": "2023-06-17T17:09:55.946400Z",
     "shell.execute_reply.started": "2023-06-17T17:09:36.542148Z"
    },
    "papermill": {
     "duration": 8.756242,
     "end_time": "2023-03-15T23:46:05.525487",
     "exception": false,
     "start_time": "2023-03-15T23:45:56.769245",
     "status": "completed"
    },
    "scrolled": true,
    "tags": []
   },
   "outputs": [
    {
     "name": "stdout",
     "output_type": "stream",
     "text": [
      "Number of tokens:  30435\n"
     ]
    }
   ],
   "source": [
    "#Text splitting\n",
    "tokens_text = [word_tokenize(str(word)) for word in train_data.tweet_lower]\n",
    "#Unique word counter\n",
    "tokens_counter = [item for sublist in tokens_text for item in sublist]\n",
    "print(\"Number of tokens: \", len(set(tokens_counter)))"
   ]
  },
  {
   "cell_type": "markdown",
   "metadata": {
    "papermill": {
     "duration": 0.02568,
     "end_time": "2023-03-15T23:46:05.577406",
     "exception": false,
     "start_time": "2023-03-15T23:46:05.551726",
     "status": "completed"
    },
    "tags": []
   },
   "source": [
    "The tokens_text variable groups all the texts by the different words stored on a List."
   ]
  },
  {
   "cell_type": "code",
   "execution_count": 28,
   "metadata": {
    "execution": {
     "iopub.execute_input": "2023-06-17T17:09:55.949318Z",
     "iopub.status.busy": "2023-06-17T17:09:55.948550Z",
     "iopub.status.idle": "2023-06-17T17:09:55.957368Z",
     "shell.execute_reply": "2023-06-17T17:09:55.956154Z",
     "shell.execute_reply.started": "2023-06-17T17:09:55.949283Z"
    },
    "papermill": {
     "duration": 0.039133,
     "end_time": "2023-03-15T23:46:05.642218",
     "exception": false,
     "start_time": "2023-03-15T23:46:05.603085",
     "status": "completed"
    },
    "tags": []
   },
   "outputs": [
    {
     "data": {
      "text/plain": [
       "['i',\n",
       " 'am',\n",
       " 'coming',\n",
       " 'to',\n",
       " 'the',\n",
       " 'borders',\n",
       " 'and',\n",
       " 'i',\n",
       " 'will',\n",
       " 'kill',\n",
       " 'you',\n",
       " 'all']"
      ]
     },
     "execution_count": 28,
     "metadata": {},
     "output_type": "execute_result"
    }
   ],
   "source": [
    "tokens_text[1]"
   ]
  },
  {
   "cell_type": "markdown",
   "metadata": {
    "papermill": {
     "duration": 0.026742,
     "end_time": "2023-03-15T23:46:05.695602",
     "exception": false,
     "start_time": "2023-03-15T23:46:05.668860",
     "status": "completed"
    },
    "tags": []
   },
   "source": [
    "Also, the main English stopwords were saved on an additional variable, to be used in the following modeling."
   ]
  },
  {
   "cell_type": "code",
   "execution_count": 29,
   "metadata": {
    "execution": {
     "iopub.execute_input": "2023-06-17T17:09:55.959334Z",
     "iopub.status.busy": "2023-06-17T17:09:55.958787Z",
     "iopub.status.idle": "2023-06-17T17:09:55.976674Z",
     "shell.execute_reply": "2023-06-17T17:09:55.975597Z",
     "shell.execute_reply.started": "2023-06-17T17:09:55.959302Z"
    },
    "papermill": {
     "duration": 0.037863,
     "end_time": "2023-03-15T23:46:05.760034",
     "exception": false,
     "start_time": "2023-03-15T23:46:05.722171",
     "status": "completed"
    },
    "tags": []
   },
   "outputs": [
    {
     "data": {
      "text/plain": [
       "['i',\n",
       " 'me',\n",
       " 'my',\n",
       " 'myself',\n",
       " 'we',\n",
       " 'our',\n",
       " 'ours',\n",
       " 'ourselves',\n",
       " 'you',\n",
       " \"you're\",\n",
       " \"you've\",\n",
       " \"you'll\",\n",
       " \"you'd\",\n",
       " 'your',\n",
       " 'yours',\n",
       " 'yourself',\n",
       " 'yourselves',\n",
       " 'he',\n",
       " 'him',\n",
       " 'his',\n",
       " 'himself',\n",
       " 'she',\n",
       " \"she's\",\n",
       " 'her',\n",
       " 'hers',\n",
       " 'herself',\n",
       " 'it',\n",
       " \"it's\",\n",
       " 'its',\n",
       " 'itself',\n",
       " 'they',\n",
       " 'them',\n",
       " 'their',\n",
       " 'theirs',\n",
       " 'themselves',\n",
       " 'what',\n",
       " 'which',\n",
       " 'who',\n",
       " 'whom',\n",
       " 'this',\n",
       " 'that',\n",
       " \"that'll\",\n",
       " 'these',\n",
       " 'those',\n",
       " 'am',\n",
       " 'is',\n",
       " 'are',\n",
       " 'was',\n",
       " 'were',\n",
       " 'be',\n",
       " 'been',\n",
       " 'being',\n",
       " 'have',\n",
       " 'has',\n",
       " 'had',\n",
       " 'having',\n",
       " 'do',\n",
       " 'does',\n",
       " 'did',\n",
       " 'doing',\n",
       " 'a',\n",
       " 'an',\n",
       " 'the',\n",
       " 'and',\n",
       " 'but',\n",
       " 'if',\n",
       " 'or',\n",
       " 'because',\n",
       " 'as',\n",
       " 'until',\n",
       " 'while',\n",
       " 'of',\n",
       " 'at',\n",
       " 'by',\n",
       " 'for',\n",
       " 'with',\n",
       " 'about',\n",
       " 'against',\n",
       " 'between',\n",
       " 'into',\n",
       " 'through',\n",
       " 'during',\n",
       " 'before',\n",
       " 'after',\n",
       " 'above',\n",
       " 'below',\n",
       " 'to',\n",
       " 'from',\n",
       " 'up',\n",
       " 'down',\n",
       " 'in',\n",
       " 'out',\n",
       " 'on',\n",
       " 'off',\n",
       " 'over',\n",
       " 'under',\n",
       " 'again',\n",
       " 'further',\n",
       " 'then',\n",
       " 'once',\n",
       " 'here',\n",
       " 'there',\n",
       " 'when',\n",
       " 'where',\n",
       " 'why',\n",
       " 'how',\n",
       " 'all',\n",
       " 'any',\n",
       " 'both',\n",
       " 'each',\n",
       " 'few',\n",
       " 'more',\n",
       " 'most',\n",
       " 'other',\n",
       " 'some',\n",
       " 'such',\n",
       " 'no',\n",
       " 'nor',\n",
       " 'not',\n",
       " 'only',\n",
       " 'own',\n",
       " 'same',\n",
       " 'so',\n",
       " 'than',\n",
       " 'too',\n",
       " 'very',\n",
       " 's',\n",
       " 't',\n",
       " 'can',\n",
       " 'will',\n",
       " 'just',\n",
       " 'don',\n",
       " \"don't\",\n",
       " 'should',\n",
       " \"should've\",\n",
       " 'now',\n",
       " 'd',\n",
       " 'll',\n",
       " 'm',\n",
       " 'o',\n",
       " 're',\n",
       " 've',\n",
       " 'y',\n",
       " 'ain',\n",
       " 'aren',\n",
       " \"aren't\",\n",
       " 'couldn',\n",
       " \"couldn't\",\n",
       " 'didn',\n",
       " \"didn't\",\n",
       " 'doesn',\n",
       " \"doesn't\",\n",
       " 'hadn',\n",
       " \"hadn't\",\n",
       " 'hasn',\n",
       " \"hasn't\",\n",
       " 'haven',\n",
       " \"haven't\",\n",
       " 'isn',\n",
       " \"isn't\",\n",
       " 'ma',\n",
       " 'mightn',\n",
       " \"mightn't\",\n",
       " 'mustn',\n",
       " \"mustn't\",\n",
       " 'needn',\n",
       " \"needn't\",\n",
       " 'shan',\n",
       " \"shan't\",\n",
       " 'shouldn',\n",
       " \"shouldn't\",\n",
       " 'wasn',\n",
       " \"wasn't\",\n",
       " 'weren',\n",
       " \"weren't\",\n",
       " 'won',\n",
       " \"won't\",\n",
       " 'wouldn',\n",
       " \"wouldn't\"]"
      ]
     },
     "execution_count": 29,
     "metadata": {},
     "output_type": "execute_result"
    }
   ],
   "source": [
    "#Choosing english stopwords\n",
    "stopwords_nltk = nltk.corpus.stopwords\n",
    "stop_words = stopwords_nltk.words('english')\n",
    "stop_words[:]"
   ]
  },
  {
   "cell_type": "markdown",
   "metadata": {},
   "source": [
    "# Modeling"
   ]
  },
  {
   "attachments": {
    "image.png": {
     "image/png": "[encoded data removed]"
    }
   },
   "cell_type": "markdown",
   "metadata": {},
   "source": [
    "## Bag of Words method\n",
    "This method helps to classify and group the relevant data to help the model identify the proper trends.\n",
    "On this first BoW, the stopwords were considered alongside a default ngram of 1.\n",
    "\n",
    "![image.png](attachment:image.png)"
   ]
  },
  {
   "cell_type": "markdown",
   "metadata": {},
   "source": [
    "## Bag of words with ngram = 1"
   ]
  },
  {
   "cell_type": "code",
   "execution_count": 30,
   "metadata": {
    "execution": {
     "iopub.execute_input": "2023-06-17T17:09:55.978325Z",
     "iopub.status.busy": "2023-06-17T17:09:55.977967Z",
     "iopub.status.idle": "2023-06-17T17:09:55.984746Z",
     "shell.execute_reply": "2023-06-17T17:09:55.983595Z",
     "shell.execute_reply.started": "2023-06-17T17:09:55.978298Z"
    },
    "papermill": {
     "duration": 0.035845,
     "end_time": "2023-03-15T23:46:05.875606",
     "exception": false,
     "start_time": "2023-03-15T23:46:05.839761",
     "status": "completed"
    },
    "tags": []
   },
   "outputs": [],
   "source": [
    "#Initial Bag of Words\n",
    "bow_counts = CountVectorizer(\n",
    "    tokenizer=word_tokenize,\n",
    "    stop_words=stop_words, #English Stopwords\n",
    "    ngram_range=(1, 1) #analysis of one word\n",
    ")"
   ]
  },
  {
   "cell_type": "markdown",
   "metadata": {
    "papermill": {
     "duration": 0.025906,
     "end_time": "2023-03-15T23:46:05.927689",
     "exception": false,
     "start_time": "2023-03-15T23:46:05.901783",
     "status": "completed"
    },
    "tags": []
   },
   "source": [
    "Then, the main data was split on train and test datasets alongside the encoding of the words by using the training dataset as a reference:"
   ]
  },
  {
   "cell_type": "code",
   "execution_count": 31,
   "metadata": {
    "execution": {
     "iopub.execute_input": "2023-06-17T17:09:55.986447Z",
     "iopub.status.busy": "2023-06-17T17:09:55.986078Z",
     "iopub.status.idle": "2023-06-17T17:09:56.017377Z",
     "shell.execute_reply": "2023-06-17T17:09:56.016471Z",
     "shell.execute_reply.started": "2023-06-17T17:09:55.986419Z"
    },
    "papermill": {
     "duration": 0.054601,
     "end_time": "2023-03-15T23:46:06.008602",
     "exception": false,
     "start_time": "2023-03-15T23:46:05.954001",
     "status": "completed"
    },
    "tags": []
   },
   "outputs": [],
   "source": [
    "#Train - Test splitting\n",
    "reviews_train, reviews_test = train_test_split(train_data, test_size=0.2, random_state=0)"
   ]
  },
  {
   "cell_type": "code",
   "execution_count": 32,
   "metadata": {
    "execution": {
     "iopub.execute_input": "2023-06-17T17:09:56.019388Z",
     "iopub.status.busy": "2023-06-17T17:09:56.018510Z",
     "iopub.status.idle": "2023-06-17T17:10:16.454491Z",
     "shell.execute_reply": "2023-06-17T17:10:16.453370Z",
     "shell.execute_reply.started": "2023-06-17T17:09:56.019353Z"
    },
    "papermill": {
     "duration": 10.159731,
     "end_time": "2023-03-15T23:46:16.194707",
     "exception": false,
     "start_time": "2023-03-15T23:46:06.034976",
     "status": "completed"
    },
    "tags": []
   },
   "outputs": [
    {
     "name": "stderr",
     "output_type": "stream",
     "text": [
      "C:\\Users\\meena\\anaconda3\\envs\\environment\\lib\\site-packages\\sklearn\\feature_extraction\\text.py:391: UserWarning: Your stop_words may be inconsistent with your preprocessing. Tokenizing the stop words generated tokens [\"'d\", \"'ll\", \"'re\", \"'s\", \"'ve\", 'could', 'might', 'must', \"n't\", 'need', 'sha', 'wo', 'would'] not in stop_words.\n",
      "  'stop_words.' % sorted(inconsistent))\n"
     ]
    }
   ],
   "source": [
    "#Creation of encoding related to train dataset\n",
    "X_train_bow = bow_counts.fit_transform(reviews_train.tweet_lower)\n",
    "#Transformation of test dataset with train encoding\n",
    "X_test_bow = bow_counts.transform(reviews_test.tweet_lower)"
   ]
  },
  {
   "cell_type": "code",
   "execution_count": 33,
   "metadata": {
    "execution": {
     "iopub.execute_input": "2023-06-17T17:10:16.456426Z",
     "iopub.status.busy": "2023-06-17T17:10:16.455932Z",
     "iopub.status.idle": "2023-06-17T17:10:16.465083Z",
     "shell.execute_reply": "2023-06-17T17:10:16.463669Z",
     "shell.execute_reply.started": "2023-06-17T17:10:16.456372Z"
    },
    "papermill": {
     "duration": 0.039168,
     "end_time": "2023-03-15T23:46:16.260376",
     "exception": false,
     "start_time": "2023-03-15T23:46:16.221208",
     "status": "completed"
    },
    "tags": []
   },
   "outputs": [
    {
     "data": {
      "text/plain": [
       "<14332x28998 sparse matrix of type '<class 'numpy.int64'>'\n",
       "\twith 157933 stored elements in Compressed Sparse Row format>"
      ]
     },
     "execution_count": 33,
     "metadata": {},
     "output_type": "execute_result"
    }
   ],
   "source": [
    "X_test_bow"
   ]
  },
  {
   "cell_type": "code",
   "execution_count": 34,
   "metadata": {
    "execution": {
     "iopub.execute_input": "2023-06-17T17:10:16.467531Z",
     "iopub.status.busy": "2023-06-17T17:10:16.466937Z",
     "iopub.status.idle": "2023-06-17T17:10:16.477945Z",
     "shell.execute_reply": "2023-06-17T17:10:16.476734Z",
     "shell.execute_reply.started": "2023-06-17T17:10:16.467476Z"
    },
    "papermill": {
     "duration": 0.037235,
     "end_time": "2023-03-15T23:46:16.324038",
     "exception": false,
     "start_time": "2023-03-15T23:46:16.286803",
     "status": "completed"
    },
    "tags": []
   },
   "outputs": [],
   "source": [
    "#Labels for train and test encoding\n",
    "y_train_bow = reviews_train['Sentiment']\n",
    "y_test_bow = reviews_test['Sentiment']"
   ]
  },
  {
   "cell_type": "code",
   "execution_count": 35,
   "metadata": {
    "execution": {
     "iopub.execute_input": "2023-06-17T17:10:16.480001Z",
     "iopub.status.busy": "2023-06-17T17:10:16.479537Z",
     "iopub.status.idle": "2023-06-17T17:10:16.502043Z",
     "shell.execute_reply": "2023-06-17T17:10:16.501168Z",
     "shell.execute_reply.started": "2023-06-17T17:10:16.479958Z"
    },
    "papermill": {
     "duration": 0.040321,
     "end_time": "2023-03-15T23:46:16.444224",
     "exception": false,
     "start_time": "2023-03-15T23:46:16.403903",
     "status": "completed"
    },
    "tags": []
   },
   "outputs": [
    {
     "data": {
      "text/plain": [
       "Negative      0.300447\n",
       "Positive      0.273723\n",
       "Neutral       0.248953\n",
       "Irrelevant    0.176877\n",
       "Name: Sentiment, dtype: float64"
      ]
     },
     "execution_count": 35,
     "metadata": {},
     "output_type": "execute_result"
    }
   ],
   "source": [
    "#Total of registers per category\n",
    "y_test_bow.value_counts() / y_test_bow.shape[0]"
   ]
  },
  {
   "cell_type": "markdown",
   "metadata": {
    "papermill": {
     "duration": 0.02638,
     "end_time": "2023-03-15T23:46:16.377406",
     "exception": false,
     "start_time": "2023-03-15T23:46:16.351026",
     "status": "completed"
    },
    "tags": []
   },
   "source": [
    "The total number of tweets for each category shows that negative and positive are the most registered while the irrelevant is the lowest."
   ]
  },
  {
   "cell_type": "code",
   "execution_count": 36,
   "metadata": {
    "execution": {
     "iopub.execute_input": "2023-06-17T17:10:45.309358Z",
     "iopub.status.busy": "2023-06-17T17:10:45.308885Z",
     "iopub.status.idle": "2023-06-17T17:10:45.317801Z",
     "shell.execute_reply": "2023-06-17T17:10:45.316670Z",
     "shell.execute_reply.started": "2023-06-17T17:10:45.309317Z"
    },
    "papermill": {
     "duration": 0.036035,
     "end_time": "2023-03-15T23:46:30.294341",
     "exception": false,
     "start_time": "2023-03-15T23:46:30.258306",
     "status": "completed"
    },
    "tags": []
   },
   "outputs": [],
   "source": [
    "#Validation data\n",
    "#X_val_bow"
   ]
  },
  {
   "cell_type": "code",
   "execution_count": 37,
   "metadata": {
    "execution": {
     "iopub.execute_input": "2023-06-17T17:10:44.961753Z",
     "iopub.status.busy": "2023-06-17T17:10:44.960589Z",
     "iopub.status.idle": "2023-06-17T17:10:45.307351Z",
     "shell.execute_reply": "2023-06-17T17:10:45.306100Z",
     "shell.execute_reply.started": "2023-06-17T17:10:44.961694Z"
    },
    "papermill": {
     "duration": 0.197247,
     "end_time": "2023-03-15T23:46:30.231623",
     "exception": false,
     "start_time": "2023-03-15T23:46:30.034376",
     "status": "completed"
    },
    "tags": []
   },
   "outputs": [],
   "source": [
    "#Validation data fitting with bow ngram=1\n",
    "X_val_bow = bow_counts.transform(val_data.tweet_lower)\n",
    "\n",
    "y_val_bow = val_data['Sentiment']"
   ]
  },
  {
   "cell_type": "markdown",
   "metadata": {},
   "source": [
    "## Logistic Regression with ngram = 1"
   ]
  },
  {
   "cell_type": "code",
   "execution_count": 38,
   "metadata": {
    "execution": {
     "iopub.execute_input": "2023-06-17T17:10:16.504715Z",
     "iopub.status.busy": "2023-06-17T17:10:16.503660Z",
     "iopub.status.idle": "2023-06-17T17:10:44.957901Z",
     "shell.execute_reply": "2023-06-17T17:10:44.956417Z",
     "shell.execute_reply.started": "2023-06-17T17:10:16.504676Z"
    },
    "papermill": {
     "duration": 13.472825,
     "end_time": "2023-03-15T23:46:29.995160",
     "exception": false,
     "start_time": "2023-03-15T23:46:16.522335",
     "status": "completed"
    },
    "tags": []
   },
   "outputs": [
    {
     "name": "stdout",
     "output_type": "stream",
     "text": [
      "Accuracy:  83.65196762489533\n",
      "              precision    recall  f1-score   support\n",
      "\n",
      "  Irrelevant       0.90      0.76      0.82      2535\n",
      "    Negative       0.84      0.88      0.86      4306\n",
      "     Neutral       0.89      0.80      0.84      3568\n",
      "    Positive       0.76      0.88      0.82      3923\n",
      "\n",
      "    accuracy                           0.84     14332\n",
      "   macro avg       0.85      0.83      0.84     14332\n",
      "weighted avg       0.84      0.84      0.84     14332\n",
      "\n"
     ]
    }
   ],
   "source": [
    "# Logistic regression\n",
    "model1 = LogisticRegression(C=1, solver=\"liblinear\",max_iter=1000)\n",
    "model1.fit(X_train_bow, y_train_bow)\n",
    "# Prediction\n",
    "test_pred = model1.predict(X_test_bow)\n",
    "print(\"Accuracy: \", accuracy_score(y_test_bow, test_pred) * 100)\n",
    "print(classification_report(y_test_bow,test_pred))"
   ]
  },
  {
   "cell_type": "code",
   "execution_count": 39,
   "metadata": {
    "execution": {
     "iopub.execute_input": "2023-06-17T17:10:45.320252Z",
     "iopub.status.busy": "2023-06-17T17:10:45.319679Z",
     "iopub.status.idle": "2023-06-17T17:10:45.338820Z",
     "shell.execute_reply": "2023-06-17T17:10:45.337761Z",
     "shell.execute_reply.started": "2023-06-17T17:10:45.320206Z"
    },
    "papermill": {
     "duration": 0.038909,
     "end_time": "2023-03-15T23:46:30.361380",
     "exception": false,
     "start_time": "2023-03-15T23:46:30.322471",
     "status": "completed"
    },
    "tags": []
   },
   "outputs": [
    {
     "name": "stdout",
     "output_type": "stream",
     "text": [
      "Accuracy:  93.60000000000001\n",
      "              precision    recall  f1-score   support\n",
      "\n",
      "  Irrelevant       0.95      0.91      0.93       172\n",
      "    Negative       0.93      0.95      0.94       266\n",
      "     Neutral       0.96      0.93      0.95       285\n",
      "    Positive       0.91      0.94      0.92       277\n",
      "\n",
      "    accuracy                           0.94      1000\n",
      "   macro avg       0.94      0.93      0.94      1000\n",
      "weighted avg       0.94      0.94      0.94      1000\n",
      "\n"
     ]
    }
   ],
   "source": [
    "Val_res = model1.predict(X_val_bow)\n",
    "print(\"Accuracy: \", accuracy_score(y_val_bow, Val_res) * 100)\n",
    "print(classification_report(y_val_bow, Val_res))"
   ]
  },
  {
   "cell_type": "markdown",
   "metadata": {
    "papermill": {
     "duration": 0.025939,
     "end_time": "2023-03-15T23:46:16.496473",
     "exception": false,
     "start_time": "2023-03-15T23:46:16.470534",
     "status": "completed"
    },
    "tags": []
   },
   "source": [
    "With this data, the Logistic Regression Model was trained, where accuracy of 84% on the test dataset was obtained while on the validation dataset this value increased to 93.6%."
   ]
  },
  {
   "cell_type": "markdown",
   "metadata": {},
   "source": [
    "## Random Forest Classifier with ngram = 1"
   ]
  },
  {
   "cell_type": "code",
   "execution_count": 40,
   "metadata": {},
   "outputs": [
    {
     "name": "stdout",
     "output_type": "stream",
     "text": [
      "Accuracy:  90.99916271281049\n",
      "              precision    recall  f1-score   support\n",
      "\n",
      "  Irrelevant       0.97      0.85      0.90      2535\n",
      "    Negative       0.92      0.93      0.93      4306\n",
      "     Neutral       0.94      0.90      0.92      3568\n",
      "    Positive       0.85      0.95      0.89      3923\n",
      "\n",
      "    accuracy                           0.91     14332\n",
      "   macro avg       0.92      0.90      0.91     14332\n",
      "weighted avg       0.91      0.91      0.91     14332\n",
      "\n"
     ]
    }
   ],
   "source": [
    "# RandomForestClassifier\n",
    "model1 = RandomForestClassifier()\n",
    "model1.fit(X_train_bow, y_train_bow)\n",
    "\n",
    "# Prediction\n",
    "test_pred = model1.predict(X_test_bow)\n",
    "\n",
    "print(\"Accuracy: \", accuracy_score(y_test_bow, test_pred) * 100)\n",
    "print(classification_report(y_test_bow,test_pred))"
   ]
  },
  {
   "cell_type": "code",
   "execution_count": 41,
   "metadata": {},
   "outputs": [
    {
     "name": "stdout",
     "output_type": "stream",
     "text": [
      "Accuracy:  95.7\n",
      "              precision    recall  f1-score   support\n",
      "\n",
      "  Irrelevant       0.99      0.92      0.95       172\n",
      "    Negative       0.94      0.98      0.96       266\n",
      "     Neutral       0.96      0.95      0.96       285\n",
      "    Positive       0.95      0.96      0.96       277\n",
      "\n",
      "    accuracy                           0.96      1000\n",
      "   macro avg       0.96      0.95      0.96      1000\n",
      "weighted avg       0.96      0.96      0.96      1000\n",
      "\n"
     ]
    }
   ],
   "source": [
    "Val_res = model1.predict(X_val_bow)\n",
    "print(\"Accuracy: \", accuracy_score(y_val_bow, Val_res) * 100)\n",
    "print(classification_report(y_val_bow, Val_res))"
   ]
  },
  {
   "cell_type": "markdown",
   "metadata": {},
   "source": [
    "## Multinomial NB with ngram = 1"
   ]
  },
  {
   "cell_type": "code",
   "execution_count": 42,
   "metadata": {},
   "outputs": [
    {
     "name": "stdout",
     "output_type": "stream",
     "text": [
      "Accuracy:  75.01395478649177\n",
      "              precision    recall  f1-score   support\n",
      "\n",
      "  Irrelevant       0.84      0.64      0.73      2535\n",
      "    Negative       0.71      0.85      0.77      4306\n",
      "     Neutral       0.83      0.66      0.74      3568\n",
      "    Positive       0.71      0.79      0.75      3923\n",
      "\n",
      "    accuracy                           0.75     14332\n",
      "   macro avg       0.77      0.74      0.75     14332\n",
      "weighted avg       0.76      0.75      0.75     14332\n",
      "\n"
     ]
    }
   ],
   "source": [
    "model1 = MultinomialNB()\n",
    "model1.fit(X_train_bow, y_train_bow)\n",
    "#prediction\n",
    "test_pred = model1.predict(X_test_bow)\n",
    "\n",
    "print(\"Accuracy: \", accuracy_score(y_test_bow, test_pred) * 100)\n",
    "print(classification_report(y_test_bow,test_pred))"
   ]
  },
  {
   "cell_type": "code",
   "execution_count": 43,
   "metadata": {},
   "outputs": [
    {
     "name": "stdout",
     "output_type": "stream",
     "text": [
      "Accuracy:  81.89999999999999\n",
      "              precision    recall  f1-score   support\n",
      "\n",
      "  Irrelevant       0.88      0.75      0.81       172\n",
      "    Negative       0.78      0.87      0.83       266\n",
      "     Neutral       0.87      0.75      0.81       285\n",
      "    Positive       0.78      0.88      0.83       277\n",
      "\n",
      "    accuracy                           0.82      1000\n",
      "   macro avg       0.83      0.81      0.82      1000\n",
      "weighted avg       0.83      0.82      0.82      1000\n",
      "\n"
     ]
    }
   ],
   "source": [
    "Val_res = model1.predict(X_val_bow)\n",
    "print(\"Accuracy: \", accuracy_score(y_val_bow, Val_res) * 100)\n",
    "print(classification_report(y_val_bow, Val_res))"
   ]
  },
  {
   "cell_type": "markdown",
   "metadata": {},
   "source": [
    "## Decision Tree with ngram = 1"
   ]
  },
  {
   "cell_type": "code",
   "execution_count": 44,
   "metadata": {},
   "outputs": [
    {
     "name": "stdout",
     "output_type": "stream",
     "text": [
      "Accuracy:  82.3681272676528\n",
      "              precision    recall  f1-score   support\n",
      "\n",
      "  Irrelevant       0.84      0.75      0.79      2535\n",
      "    Negative       0.86      0.84      0.85      4306\n",
      "     Neutral       0.84      0.81      0.83      3568\n",
      "    Positive       0.77      0.86      0.82      3923\n",
      "\n",
      "    accuracy                           0.82     14332\n",
      "   macro avg       0.83      0.82      0.82     14332\n",
      "weighted avg       0.83      0.82      0.82     14332\n",
      "\n"
     ]
    }
   ],
   "source": [
    "model1 = DecisionTreeClassifier()\n",
    "model1.fit(X_train_bow, y_train_bow)\n",
    "\n",
    "#prediction\n",
    "test_pred = model1.predict(X_test_bow)\n",
    "\n",
    "print(\"Accuracy: \", accuracy_score(y_test_bow, test_pred) * 100)\n",
    "print(classification_report(y_test_bow,test_pred))"
   ]
  },
  {
   "cell_type": "code",
   "execution_count": 45,
   "metadata": {
    "scrolled": true
   },
   "outputs": [
    {
     "name": "stdout",
     "output_type": "stream",
     "text": [
      "Accuracy:  90.2\n",
      "              precision    recall  f1-score   support\n",
      "\n",
      "  Irrelevant       0.91      0.88      0.90       172\n",
      "    Negative       0.89      0.93      0.91       266\n",
      "     Neutral       0.94      0.87      0.90       285\n",
      "    Positive       0.88      0.92      0.90       277\n",
      "\n",
      "    accuracy                           0.90      1000\n",
      "   macro avg       0.90      0.90      0.90      1000\n",
      "weighted avg       0.90      0.90      0.90      1000\n",
      "\n"
     ]
    }
   ],
   "source": [
    "Val_res = model1.predict(X_val_bow)\n",
    "print(\"Accuracy: \", accuracy_score(y_val_bow, Val_res) * 100)\n",
    "print(classification_report(y_val_bow, Val_res))"
   ]
  },
  {
   "cell_type": "markdown",
   "metadata": {},
   "source": [
    "## Bag of words with ngram = 4"
   ]
  },
  {
   "cell_type": "markdown",
   "metadata": {
    "papermill": {
     "duration": 0.026889,
     "end_time": "2023-03-15T23:46:30.415185",
     "exception": false,
     "start_time": "2023-03-15T23:46:30.388296",
     "status": "completed"
    },
    "tags": []
   },
   "source": [
    "Finally, another Bag of Words was used. This had an n-gram of 4 while not classifying the stopwords, using all the available information.\n"
   ]
  },
  {
   "cell_type": "code",
   "execution_count": 46,
   "metadata": {
    "execution": {
     "iopub.execute_input": "2023-06-17T17:10:45.340774Z",
     "iopub.status.busy": "2023-06-17T17:10:45.340395Z",
     "iopub.status.idle": "2023-06-17T17:11:19.704608Z",
     "shell.execute_reply": "2023-06-17T17:11:19.703442Z",
     "shell.execute_reply.started": "2023-06-17T17:10:45.340746Z"
    },
    "papermill": {
     "duration": 20.149918,
     "end_time": "2023-03-15T23:46:50.592200",
     "exception": false,
     "start_time": "2023-03-15T23:46:30.442282",
     "status": "completed"
    },
    "tags": []
   },
   "outputs": [],
   "source": [
    "#n-gram of 4 words\n",
    "bow_counts = CountVectorizer(\n",
    "    tokenizer=word_tokenize,\n",
    "    ngram_range=(1,4)\n",
    ")\n",
    "#Data labeling\n",
    "X_train_bow = bow_counts.fit_transform(reviews_train.tweet_lower)\n",
    "X_test_bow = bow_counts.transform(reviews_test.tweet_lower)\n",
    "#fitting the validation data with bow ngram=4\n",
    "X_val_bow = bow_counts.transform(val_data.tweet_lower)"
   ]
  },
  {
   "cell_type": "code",
   "execution_count": 47,
   "metadata": {
    "execution": {
     "iopub.execute_input": "2023-06-17T17:48:12.781055Z",
     "iopub.status.busy": "2023-06-17T17:48:12.780179Z",
     "iopub.status.idle": "2023-06-17T17:48:12.794056Z",
     "shell.execute_reply": "2023-06-17T17:48:12.792953Z",
     "shell.execute_reply.started": "2023-06-17T17:48:12.781003Z"
    },
    "papermill": {
     "duration": 0.037296,
     "end_time": "2023-03-15T23:46:50.656089",
     "exception": false,
     "start_time": "2023-03-15T23:46:50.618793",
     "status": "completed"
    },
    "tags": []
   },
   "outputs": [
    {
     "data": {
      "text/plain": [
       "<57324x1425894 sparse matrix of type '<class 'numpy.int64'>'\n",
       "\twith 4076770 stored elements in Compressed Sparse Row format>"
      ]
     },
     "execution_count": 47,
     "metadata": {},
     "output_type": "execute_result"
    }
   ],
   "source": [
    "X_train_bow"
   ]
  },
  {
   "cell_type": "markdown",
   "metadata": {},
   "source": [
    "## Logistic Regression with ngram=4"
   ]
  },
  {
   "cell_type": "code",
   "execution_count": 48,
   "metadata": {
    "execution": {
     "iopub.execute_input": "2023-06-17T17:11:19.717220Z",
     "iopub.status.busy": "2023-06-17T17:11:19.716735Z",
     "iopub.status.idle": "2023-06-17T17:20:23.687708Z",
     "shell.execute_reply": "2023-06-17T17:20:23.686366Z",
     "shell.execute_reply.started": "2023-06-17T17:11:19.717178Z"
    },
    "papermill": {
     "duration": 324.865095,
     "end_time": "2023-03-15T23:52:15.548045",
     "exception": false,
     "start_time": "2023-03-15T23:46:50.682950",
     "status": "completed"
    },
    "tags": []
   },
   "outputs": [
    {
     "name": "stdout",
     "output_type": "stream",
     "text": [
      "Accuracy:  91.42478370080937\n"
     ]
    }
   ],
   "source": [
    "model2 = LogisticRegression(C=1, solver=\"liblinear\",max_iter=1000)\n",
    "# Logistic regression\n",
    "model2.fit(X_train_bow, y_train_bow)\n",
    "# Prediction\n",
    "test_pred_2 = model2.predict(X_test_bow)\n",
    "print(\"Accuracy: \", accuracy_score(y_test_bow, test_pred_2) * 100)"
   ]
  },
  {
   "cell_type": "code",
   "execution_count": 49,
   "metadata": {},
   "outputs": [
    {
     "name": "stdout",
     "output_type": "stream",
     "text": [
      "              precision    recall  f1-score   support\n",
      "\n",
      "  Irrelevant       0.97      0.86      0.91      2535\n",
      "    Negative       0.91      0.94      0.93      4306\n",
      "     Neutral       0.94      0.90      0.92      3568\n",
      "    Positive       0.87      0.94      0.90      3923\n",
      "\n",
      "    accuracy                           0.91     14332\n",
      "   macro avg       0.92      0.91      0.91     14332\n",
      "weighted avg       0.92      0.91      0.91     14332\n",
      "\n"
     ]
    }
   ],
   "source": [
    "print(classification_report(y_test_bow,test_pred_2))"
   ]
  },
  {
   "cell_type": "code",
   "execution_count": 50,
   "metadata": {
    "execution": {
     "iopub.execute_input": "2023-06-17T17:20:23.689428Z",
     "iopub.status.busy": "2023-06-17T17:20:23.689065Z",
     "iopub.status.idle": "2023-06-17T17:20:23.701590Z",
     "shell.execute_reply": "2023-06-17T17:20:23.700086Z",
     "shell.execute_reply.started": "2023-06-17T17:20:23.689400Z"
    },
    "papermill": {
     "duration": 0.040939,
     "end_time": "2023-03-15T23:52:15.616016",
     "exception": false,
     "start_time": "2023-03-15T23:52:15.575077",
     "status": "completed"
    },
    "tags": []
   },
   "outputs": [
    {
     "name": "stdout",
     "output_type": "stream",
     "text": [
      "Accuracy:  98.8\n",
      "              precision    recall  f1-score   support\n",
      "\n",
      "  Irrelevant       0.99      0.98      0.99       172\n",
      "    Negative       0.99      0.99      0.99       266\n",
      "     Neutral       0.99      0.99      0.99       285\n",
      "    Positive       0.98      0.99      0.98       277\n",
      "\n",
      "    accuracy                           0.99      1000\n",
      "   macro avg       0.99      0.99      0.99      1000\n",
      "weighted avg       0.99      0.99      0.99      1000\n",
      "\n"
     ]
    }
   ],
   "source": [
    "\n",
    "Val_res = model2.predict(X_val_bow)\n",
    "print(\"Accuracy: \", accuracy_score(y_val_bow, Val_res) * 100)\n",
    "print(classification_report(y_val_bow, Val_res))"
   ]
  },
  {
   "cell_type": "markdown",
   "metadata": {},
   "source": [
    "## Random Forest with ngram=4"
   ]
  },
  {
   "cell_type": "code",
   "execution_count": 51,
   "metadata": {},
   "outputs": [
    {
     "name": "stdout",
     "output_type": "stream",
     "text": [
      "Accuracy:  89.56879709740441\n",
      "              precision    recall  f1-score   support\n",
      "\n",
      "  Irrelevant       0.98      0.77      0.86      2535\n",
      "    Negative       0.88      0.94      0.91      4306\n",
      "     Neutral       0.90      0.89      0.90      3568\n",
      "    Positive       0.87      0.93      0.90      3923\n",
      "\n",
      "    accuracy                           0.90     14332\n",
      "   macro avg       0.91      0.88      0.89     14332\n",
      "weighted avg       0.90      0.90      0.89     14332\n",
      "\n"
     ]
    }
   ],
   "source": [
    "# RandomForestClassifier\n",
    "model2 = RandomForestClassifier()\n",
    "model2.fit(X_train_bow, y_train_bow)\n",
    "\n",
    "# Prediction\n",
    "test_pred = model2.predict(X_test_bow)\n",
    "\n",
    "print(\"Accuracy: \", accuracy_score(y_test_bow, test_pred) * 100)\n",
    "print(classification_report(y_test_bow,test_pred))"
   ]
  },
  {
   "cell_type": "code",
   "execution_count": 52,
   "metadata": {},
   "outputs": [
    {
     "name": "stdout",
     "output_type": "stream",
     "text": [
      "Accuracy:  96.39999999999999\n",
      "              precision    recall  f1-score   support\n",
      "\n",
      "  Irrelevant       0.99      0.92      0.95       172\n",
      "    Negative       0.95      0.98      0.97       266\n",
      "     Neutral       0.95      0.97      0.96       285\n",
      "    Positive       0.98      0.96      0.97       277\n",
      "\n",
      "    accuracy                           0.96      1000\n",
      "   macro avg       0.97      0.96      0.96      1000\n",
      "weighted avg       0.96      0.96      0.96      1000\n",
      "\n"
     ]
    }
   ],
   "source": [
    "Val_res = model2.predict(X_val_bow)\n",
    "print(\"Accuracy: \", accuracy_score(y_val_bow, Val_res) * 100)\n",
    "print(classification_report(y_val_bow, Val_res))"
   ]
  },
  {
   "cell_type": "markdown",
   "metadata": {},
   "source": [
    "## Multinomial NB with ngram=4"
   ]
  },
  {
   "cell_type": "code",
   "execution_count": 53,
   "metadata": {},
   "outputs": [
    {
     "name": "stdout",
     "output_type": "stream",
     "text": [
      "Accuracy:  91.65503767792352\n",
      "              precision    recall  f1-score   support\n",
      "\n",
      "  Irrelevant       0.98      0.85      0.91      2535\n",
      "    Negative       0.87      0.96      0.91      4306\n",
      "     Neutral       0.95      0.90      0.92      3568\n",
      "    Positive       0.91      0.92      0.92      3923\n",
      "\n",
      "    accuracy                           0.92     14332\n",
      "   macro avg       0.93      0.91      0.92     14332\n",
      "weighted avg       0.92      0.92      0.92     14332\n",
      "\n"
     ]
    }
   ],
   "source": [
    "model2 = MultinomialNB()\n",
    "model2.fit(X_train_bow, y_train_bow)\n",
    "#prediction\n",
    "test_pred = model2.predict(X_test_bow)\n",
    "\n",
    "print(\"Accuracy: \", accuracy_score(y_test_bow, test_pred) * 100)\n",
    "print(classification_report(y_test_bow,test_pred))"
   ]
  },
  {
   "cell_type": "code",
   "execution_count": 54,
   "metadata": {},
   "outputs": [
    {
     "name": "stdout",
     "output_type": "stream",
     "text": [
      "Accuracy:  97.6\n",
      "              precision    recall  f1-score   support\n",
      "\n",
      "  Irrelevant       0.99      0.96      0.98       172\n",
      "    Negative       0.98      0.99      0.99       266\n",
      "     Neutral       0.98      0.97      0.98       285\n",
      "    Positive       0.95      0.98      0.97       277\n",
      "\n",
      "    accuracy                           0.98      1000\n",
      "   macro avg       0.98      0.97      0.98      1000\n",
      "weighted avg       0.98      0.98      0.98      1000\n",
      "\n"
     ]
    }
   ],
   "source": [
    "Val_res = model2.predict(X_val_bow)\n",
    "print(\"Accuracy: \", accuracy_score(y_val_bow, Val_res) * 100)\n",
    "print(classification_report(y_val_bow, Val_res))"
   ]
  },
  {
   "cell_type": "markdown",
   "metadata": {},
   "source": [
    "## Decision Tree with ngram=4"
   ]
  },
  {
   "cell_type": "code",
   "execution_count": 55,
   "metadata": {},
   "outputs": [
    {
     "name": "stdout",
     "output_type": "stream",
     "text": [
      "Accuracy:  77.31649455763326\n",
      "              precision    recall  f1-score   support\n",
      "\n",
      "  Irrelevant       0.76      0.67      0.71      2535\n",
      "    Negative       0.79      0.81      0.80      4306\n",
      "     Neutral       0.76      0.78      0.77      3568\n",
      "    Positive       0.77      0.79      0.78      3923\n",
      "\n",
      "    accuracy                           0.77     14332\n",
      "   macro avg       0.77      0.76      0.77     14332\n",
      "weighted avg       0.77      0.77      0.77     14332\n",
      "\n"
     ]
    }
   ],
   "source": [
    "model2 = DecisionTreeClassifier()\n",
    "model2.fit(X_train_bow, y_train_bow)\n",
    "\n",
    "#prediction\n",
    "test_pred = model2.predict(X_test_bow)\n",
    "\n",
    "print(\"Accuracy: \", accuracy_score(y_test_bow, test_pred) * 100)\n",
    "print(classification_report(y_test_bow,test_pred))"
   ]
  },
  {
   "cell_type": "code",
   "execution_count": 56,
   "metadata": {},
   "outputs": [
    {
     "name": "stdout",
     "output_type": "stream",
     "text": [
      "Accuracy:  90.2\n",
      "              precision    recall  f1-score   support\n",
      "\n",
      "  Irrelevant       0.90      0.87      0.88       172\n",
      "    Negative       0.89      0.92      0.91       266\n",
      "     Neutral       0.91      0.92      0.91       285\n",
      "    Positive       0.90      0.88      0.89       277\n",
      "\n",
      "    accuracy                           0.90      1000\n",
      "   macro avg       0.90      0.90      0.90      1000\n",
      "weighted avg       0.90      0.90      0.90      1000\n",
      "\n"
     ]
    }
   ],
   "source": [
    "Val_res = model2.predict(X_val_bow)\n",
    "print(\"Accuracy: \", accuracy_score(y_val_bow, Val_res) * 100)\n",
    "print(classification_report(y_val_bow, Val_res))"
   ]
  },
  {
   "cell_type": "markdown",
   "metadata": {},
   "source": [
    "\n"
   ]
  }
 ],
 "metadata": {
  "kernelspec": {
   "display_name": "Python 3",
   "language": "python",
   "name": "python3"
  },
  "language_info": {
   "codemirror_mode": {
    "name": "ipython",
    "version": 3
   },
   "file_extension": ".py",
   "mimetype": "text/x-python",
   "name": "python",
   "nbconvert_exporter": "python",
   "pygments_lexer": "ipython3",
   "version": "3.6.10"
  },
  "papermill": {
   "default_parameters": {},
   "duration": 1666.680651,
   "end_time": "2023-03-16T00:12:37.486600",
   "environment_variables": {},
   "exception": null,
   "input_path": "__notebook__.ipynb",
   "output_path": "__notebook__.ipynb",
   "parameters": {},
   "start_time": "2023-03-15T23:44:50.805949",
   "version": "2.3.4"
  }
 },
 "nbformat": 4,
 "nbformat_minor": 5
}
